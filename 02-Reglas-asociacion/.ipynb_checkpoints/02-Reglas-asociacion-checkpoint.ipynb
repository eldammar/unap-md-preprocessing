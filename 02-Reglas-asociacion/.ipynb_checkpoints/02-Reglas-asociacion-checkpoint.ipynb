{
 "cells": [
  {
   "cell_type": "markdown",
   "source": [
    "## Importación de las bibliotecas necesarias"
   ],
   "metadata": {
    "collapsed": false
   },
   "id": "51f1db900d97523a"
  },
  {
   "cell_type": "code",
   "execution_count": null,
   "id": "initial_id",
   "metadata": {
    "collapsed": true
   },
   "outputs": [],
   "source": [
    "from mlxtend.preprocessing import TransactionEncoder\n",
    "from mlxtend.frequent_patterns import apriori, association_rules\n",
    "import pandas as pd\n",
    "import csv"
   ]
  },
  {
   "cell_type": "markdown",
   "source": [
    "## Importación de los datos"
   ],
   "metadata": {
    "collapsed": false
   },
   "id": "7c26cfc7a1e190d5"
  },
  {
   "cell_type": "code",
   "outputs": [],
   "source": [
    "# Cargar datos\n",
    "file_path = \"data/groceries.csv\""
   ],
   "metadata": {
    "collapsed": false
   },
   "id": "2de09d68c3ddca7b",
   "execution_count": null
  },
  {
   "cell_type": "markdown",
   "source": [
    "## Transformar datos a lista de transacciones"
   ],
   "metadata": {
    "collapsed": false
   },
   "id": "1c3e393def300d58"
  },
  {
   "cell_type": "code",
   "outputs": [],
   "source": [
    "transactions = []\n",
    "with open(file_path, 'r') as csvfile:\n",
    "    csvreader = csv.reader(csvfile, delimiter=',')\n",
    "    for row in csvreader:\n",
    "        transactions.append(row)"
   ],
   "metadata": {
    "collapsed": false
   },
   "id": "db7ad02a51c35689",
   "execution_count": null
  },
  {
   "cell_type": "code",
   "outputs": [],
   "source": [
    "te = TransactionEncoder()\n",
    "te_ary = te.fit(transactions).transform(transactions)\n",
    "df = pd.DataFrame(te_ary, columns=te.columns_)\n",
    "df"
   ],
   "metadata": {
    "collapsed": false
   },
   "id": "400c72a59b872767",
   "execution_count": null
  },
  {
   "cell_type": "code",
   "outputs": [],
   "source": [
    "# Algoritmo Apriori\n",
    "\n",
    "frequent_itemsets = apriori(df, min_support=0.02, use_colnames=True)\n",
    "rules = association_rules(frequent_itemsets, metric=\"confidence\", min_threshold=0.05)\n",
    "rules"
   ],
   "metadata": {
    "collapsed": false
   },
   "id": "a2118f8d1a27fb08",
   "execution_count": null
  },
  {
   "cell_type": "code",
   "outputs": [],
   "source": [
    "from mlxtend.frequent_patterns import association_rules\n",
    "import matplotlib.pyplot as plt"
   ],
   "metadata": {
    "collapsed": false
   },
   "id": "146b82723e498064",
   "execution_count": null
  },
  {
   "cell_type": "code",
   "outputs": [],
   "source": [
    "# Visualización de reglas de asociación\n",
    "plt.figure(figsize=(10, 6))\n",
    "plt.scatter(rules['support'], rules['confidence'], alpha=0.5)\n",
    "plt.xlabel('Soporte')\n",
    "plt.ylabel('Confianza')\n",
    "plt.title('Scatter Plot de Reglas de Asociación')\n",
    "plt.grid(True)\n",
    "plt.show()"
   ],
   "metadata": {
    "collapsed": false
   },
   "id": "998c7803f6252436",
   "execution_count": null
  },
  {
   "cell_type": "code",
   "outputs": [],
   "source": [
    "import networkx as nx\n",
    "import matplotlib.pyplot as plt\n",
    "\n",
    "# Crear un gráfico dirigido\n",
    "G = nx.DiGraph()\n",
    "\n",
    "# Agregar nodos y arcos al gráfico\n",
    "for _, row in rules.iterrows():\n",
    "    G.add_node(str(row['antecedents']))\n",
    "    G.add_node(str(row['consequents']))\n",
    "    G.add_edge(str(row['antecedents']), str(row['consequents']), weight=row['support'])\n",
    "\n",
    "# Posicionamiento de nodos\n",
    "pos = nx.spring_layout(G)\n",
    "\n",
    "# Crear el gráfico de red\n",
    "plt.figure(figsize=(10, 8))\n",
    "nx.draw(G, pos, with_labels=True, font_size=8, node_size=500, font_color='black', node_color='skyblue', edge_color='gray', font_weight='bold', width=1, alpha=0.7)\n",
    "\n",
    "# Etiquetas y título\n",
    "plt.title('Gráfico de Red para Reglas de Asociación')\n",
    "plt.show()"
   ],
   "metadata": {
    "collapsed": false
   },
   "id": "430b1e81801a0631",
   "execution_count": null
  },
  {
   "cell_type": "code",
   "outputs": [],
   "source": [
    "# Visualización de Item Frequency\n",
    "# --------------------------------\n",
    "item_freq = df.sum().sort_values(ascending=False)\n",
    "item_freq.plot(kind='bar', figsize=(40, 6), color='skyblue')\n",
    "plt.title('Item Frequency')\n",
    "plt.xlabel('Items')\n",
    "plt.ylabel('Frequency')\n",
    "plt.show()"
   ],
   "metadata": {
    "collapsed": false
   },
   "id": "9e458d07dcdc16d2",
   "execution_count": null
  },
  {
   "cell_type": "code",
   "outputs": [],
   "source": [
    "# Visualización de los N elementos más frecuentes\n",
    "# ----------------------------------------------\n",
    "top_n = 5\n",
    "top_n_items = df.sum().nlargest(top_n).sort_values(ascending=True)\n",
    "top_n_items.plot(kind='barh', figsize=(10, 6), color='salmon')\n",
    "plt.title(f'Top {top_n} Items')\n",
    "plt.xlabel('Frequency')\n",
    "plt.ylabel('Items')\n",
    "plt.show()"
   ],
   "metadata": {
    "collapsed": false
   },
   "id": "826a719067682bb5",
   "execution_count": null
  },
  {
   "cell_type": "code",
   "outputs": [],
   "source": [
    "from mpl_toolkits.mplot3d import Axes3D\n",
    "import matplotlib.pyplot as plt\n",
    "\n",
    "# ...\n",
    "\n",
    "# Grafico de matriz 3D\n",
    "# ---------------------\n",
    "fig = plt.figure(figsize=(10, 8))\n",
    "ax = fig.add_subplot(111, projection='3d')\n",
    "\n",
    "# Extraer datos de las reglas\n",
    "x = rules['support']\n",
    "y = rules['confidence']\n",
    "z = rules['lift']\n",
    "\n",
    "# Crear el gráfico 3D\n",
    "ax.scatter(x, y, z, c='r', marker='o')\n",
    "\n",
    "# Etiquetas y título\n",
    "ax.set_xlabel('Support')\n",
    "ax.set_ylabel('Confidence')\n",
    "ax.set_zlabel('Lift')\n",
    "ax.set_title('3D Matrix Plot')\n",
    "\n",
    "plt.show()"
   ],
   "metadata": {
    "collapsed": false
   },
   "id": "72f6effdb6c98878",
   "execution_count": null
  },
  {
   "cell_type": "code",
   "outputs": [],
   "source": [
    "import plotly.express as px\n",
    "\n",
    "# Convertir conjuntos congelados a listas\n",
    "rules['antecedents'] = rules['antecedents'].apply(list)\n",
    "rules['consequents'] = rules['consequents'].apply(list)\n",
    "\n",
    "# Grafico de matriz 3D interactivo con plotly\n",
    "# -------------------------------------------\n",
    "fig = px.scatter_3d(rules,\n",
    "                    x='support',\n",
    "                    y='confidence',\n",
    "                    z='lift',\n",
    "                    color='lift',\n",
    "                    size_max=10,\n",
    "                    opacity=0.7,\n",
    "                    title='3D Matrix Plot',\n",
    "                    labels={'support': 'Support', 'confidence': 'Confidence', 'lift': 'Lift'},\n",
    "                    hover_data=['antecedents', 'consequents', 'support', 'confidence', 'lift'])\n",
    "\n",
    "# Mostrar la figura interactiva\n",
    "fig.show()"
   ],
   "metadata": {
    "collapsed": false
   },
   "id": "dfdcf0970433819b",
   "execution_count": null
  },
  {
   "cell_type": "code",
   "outputs": [],
   "source": [
    "import seaborn as sns"
   ],
   "metadata": {
    "collapsed": false
   },
   "id": "5d16cbf1ac470d09",
   "execution_count": null
  },
  {
   "cell_type": "code",
   "outputs": [],
   "source": [
    "# Gráfico agrupado\n",
    "# -----------------\n",
    "# Asumiendo que 'antecedents' y 'consequents' son columnas en Lista_productos_Reglas\n",
    "grouped_df = pd.concat([rules['antecedents'], rules['consequents']], ignore_index=True)\n",
    "grouped_df = grouped_df.explode().value_counts().reset_index(name='frequency')\n",
    "\n",
    "# Gráfico de barras agrupadas\n",
    "plt.figure(figsize=(10, 6))\n",
    "sns.barplot(x='frequency', y='index', data=grouped_df, palette='viridis')\n",
    "plt.title('Gráfico Agrupado de Frecuencia de Elementos en Reglas de Asociación')\n",
    "plt.xlabel('Frecuencia')\n",
    "plt.ylabel('Elementos')\n",
    "plt.show()"
   ],
   "metadata": {
    "collapsed": false
   },
   "id": "712685b439e393e9",
   "execution_count": null
  },
  {
   "cell_type": "code",
   "outputs": [],
   "source": [
    "a"
   ],
   "metadata": {
    "collapsed": false
   },
   "id": "c38562135dbd19ea"
  }
 ],
 "metadata": {
  "kernelspec": {
   "display_name": "Python 3",
   "language": "python",
   "name": "python3"
  },
  "language_info": {
   "codemirror_mode": {
    "name": "ipython",
    "version": 2
   },
   "file_extension": ".py",
   "mimetype": "text/x-python",
   "name": "python",
   "nbconvert_exporter": "python",
   "pygments_lexer": "ipython2",
   "version": "2.7.6"
  }
 },
 "nbformat": 4,
 "nbformat_minor": 5
}
