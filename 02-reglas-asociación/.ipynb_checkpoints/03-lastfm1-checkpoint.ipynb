{
 "cells": [
  {
   "cell_type": "markdown",
   "source": [
    "## Importar bibliotecas"
   ],
   "metadata": {
    "collapsed": false
   },
   "id": "f391ffe8f43f7f1d"
  },
  {
   "cell_type": "code",
   "outputs": [],
   "source": [
    "import pandas as pd\n",
    "from mlxtend.preprocessing import TransactionEncoder\n",
    "from mlxtend.frequent_patterns import apriori, association_rules"
   ],
   "metadata": {
    "collapsed": false,
    "ExecuteTime": {
     "end_time": "2024-01-23T16:36:16.143079700Z",
     "start_time": "2024-01-23T16:36:16.069076400Z"
    }
   },
   "id": "99111c57d0800f2e",
   "execution_count": 23
  },
  {
   "cell_type": "markdown",
   "source": [
    "## Cargando los datos"
   ],
   "metadata": {
    "collapsed": false
   },
   "id": "f49673e8c4569cd1"
  },
  {
   "cell_type": "code",
   "outputs": [
    {
     "data": {
      "text/plain": "         user                   artist\n0           1    red hot chili peppers\n1           1  the black dahlia murder\n2           1                goldfrapp\n3           1         dropkick murphys\n4           1                 le tigre\n...       ...                      ...\n289948  19718                bob dylan\n289949  19718                   pixies\n289950  19718                the clash\n289951  19718     a tribe called quest\n289952  19718                radiohead\n\n[289953 rows x 2 columns]",
      "text/html": "<div>\n<style scoped>\n    .dataframe tbody tr th:only-of-type {\n        vertical-align: middle;\n    }\n\n    .dataframe tbody tr th {\n        vertical-align: top;\n    }\n\n    .dataframe thead th {\n        text-align: right;\n    }\n</style>\n<table border=\"1\" class=\"dataframe\">\n  <thead>\n    <tr style=\"text-align: right;\">\n      <th></th>\n      <th>user</th>\n      <th>artist</th>\n    </tr>\n  </thead>\n  <tbody>\n    <tr>\n      <th>0</th>\n      <td>1</td>\n      <td>red hot chili peppers</td>\n    </tr>\n    <tr>\n      <th>1</th>\n      <td>1</td>\n      <td>the black dahlia murder</td>\n    </tr>\n    <tr>\n      <th>2</th>\n      <td>1</td>\n      <td>goldfrapp</td>\n    </tr>\n    <tr>\n      <th>3</th>\n      <td>1</td>\n      <td>dropkick murphys</td>\n    </tr>\n    <tr>\n      <th>4</th>\n      <td>1</td>\n      <td>le tigre</td>\n    </tr>\n    <tr>\n      <th>...</th>\n      <td>...</td>\n      <td>...</td>\n    </tr>\n    <tr>\n      <th>289948</th>\n      <td>19718</td>\n      <td>bob dylan</td>\n    </tr>\n    <tr>\n      <th>289949</th>\n      <td>19718</td>\n      <td>pixies</td>\n    </tr>\n    <tr>\n      <th>289950</th>\n      <td>19718</td>\n      <td>the clash</td>\n    </tr>\n    <tr>\n      <th>289951</th>\n      <td>19718</td>\n      <td>a tribe called quest</td>\n    </tr>\n    <tr>\n      <th>289952</th>\n      <td>19718</td>\n      <td>radiohead</td>\n    </tr>\n  </tbody>\n</table>\n<p>289953 rows × 2 columns</p>\n</div>"
     },
     "execution_count": 24,
     "metadata": {},
     "output_type": "execute_result"
    }
   ],
   "source": [
    "# Cargar el conjunto de datos\n",
    "lastfm_data = pd.read_csv(\"data/lastfm1.csv\", sep=\";\")\n",
    "lastfm_data"
   ],
   "metadata": {
    "collapsed": false,
    "ExecuteTime": {
     "end_time": "2024-01-23T16:36:16.440078800Z",
     "start_time": "2024-01-23T16:36:16.146080700Z"
    }
   },
   "id": "c7fdf67d9d0065aa",
   "execution_count": 24
  },
  {
   "cell_type": "markdown",
   "source": [
    "## Formato de transacción"
   ],
   "metadata": {
    "collapsed": false
   },
   "id": "ae9b166ad8395405"
  },
  {
   "cell_type": "code",
   "outputs": [
    {
     "data": {
      "text/plain": "        user                                             artist\n0          1  red hot chili peppers,the black dahlia murder,...\n1          3  devendra banhart,boards of canada,cocorosie,ap...\n2          4  tv on the radio,tool,kyuss,dj shadow,air,a tri...\n3          5  dream theater,ac/dc,metallica,iron maiden,bob ...\n4          6  lily allen,kanye west,sigur rós,pink floyd,ste...\n...      ...                                                ...\n14995  19713  armin van buuren,above & beyond,atb,ferry cors...\n14996  19714  misfits,type o negative,arch enemy,red hot chi...\n14997  19715  abba,james blunt,jason mraz,amy winehouse,quee...\n14998  19717  marilyn manson,beyoncé,madonna,t.a.t.u.,katy p...\n14999  19718  beirut,of montreal,black flag,the new pornogra...\n\n[15000 rows x 2 columns]",
      "text/html": "<div>\n<style scoped>\n    .dataframe tbody tr th:only-of-type {\n        vertical-align: middle;\n    }\n\n    .dataframe tbody tr th {\n        vertical-align: top;\n    }\n\n    .dataframe thead th {\n        text-align: right;\n    }\n</style>\n<table border=\"1\" class=\"dataframe\">\n  <thead>\n    <tr style=\"text-align: right;\">\n      <th></th>\n      <th>user</th>\n      <th>artist</th>\n    </tr>\n  </thead>\n  <tbody>\n    <tr>\n      <th>0</th>\n      <td>1</td>\n      <td>red hot chili peppers,the black dahlia murder,...</td>\n    </tr>\n    <tr>\n      <th>1</th>\n      <td>3</td>\n      <td>devendra banhart,boards of canada,cocorosie,ap...</td>\n    </tr>\n    <tr>\n      <th>2</th>\n      <td>4</td>\n      <td>tv on the radio,tool,kyuss,dj shadow,air,a tri...</td>\n    </tr>\n    <tr>\n      <th>3</th>\n      <td>5</td>\n      <td>dream theater,ac/dc,metallica,iron maiden,bob ...</td>\n    </tr>\n    <tr>\n      <th>4</th>\n      <td>6</td>\n      <td>lily allen,kanye west,sigur rós,pink floyd,ste...</td>\n    </tr>\n    <tr>\n      <th>...</th>\n      <td>...</td>\n      <td>...</td>\n    </tr>\n    <tr>\n      <th>14995</th>\n      <td>19713</td>\n      <td>armin van buuren,above &amp; beyond,atb,ferry cors...</td>\n    </tr>\n    <tr>\n      <th>14996</th>\n      <td>19714</td>\n      <td>misfits,type o negative,arch enemy,red hot chi...</td>\n    </tr>\n    <tr>\n      <th>14997</th>\n      <td>19715</td>\n      <td>abba,james blunt,jason mraz,amy winehouse,quee...</td>\n    </tr>\n    <tr>\n      <th>14998</th>\n      <td>19717</td>\n      <td>marilyn manson,beyoncé,madonna,t.a.t.u.,katy p...</td>\n    </tr>\n    <tr>\n      <th>14999</th>\n      <td>19718</td>\n      <td>beirut,of montreal,black flag,the new pornogra...</td>\n    </tr>\n  </tbody>\n</table>\n<p>15000 rows × 2 columns</p>\n</div>"
     },
     "execution_count": 25,
     "metadata": {},
     "output_type": "execute_result"
    }
   ],
   "source": [
    "transacciones = lastfm_data.groupby(\"user\")[\"artist\"].apply(list).reset_index()\n",
    "transacciones[\"artist\"] = transacciones[\"artist\"].apply(lambda x: ','.join(x))\n",
    "transacciones"
   ],
   "metadata": {
    "collapsed": false,
    "ExecuteTime": {
     "end_time": "2024-01-23T16:36:17.877685600Z",
     "start_time": "2024-01-23T16:36:16.441079100Z"
    }
   },
   "id": "d72af5869959a6bf",
   "execution_count": 25
  },
  {
   "cell_type": "markdown",
   "source": [
    "## Graficar los artistas mas consumidos"
   ],
   "metadata": {
    "collapsed": false
   },
   "id": "5c2b1a4ff9ee9221"
  },
  {
   "cell_type": "code",
   "outputs": [],
   "source": [
    "import matplotlib.pyplot as plt"
   ],
   "metadata": {
    "collapsed": false,
    "ExecuteTime": {
     "end_time": "2024-01-23T16:36:17.918683100Z",
     "start_time": "2024-01-23T16:36:17.853103700Z"
    }
   },
   "id": "83c91dfe923ca287",
   "execution_count": 26
  },
  {
   "cell_type": "code",
   "outputs": [],
   "source": [
    "# Dividir las cadenas de productos y expandirlas en nuevas columnas\n",
    "productos_divididos = transacciones['artist'].str.split(',', expand=True)\n",
    "\n",
    "# Apilar las columnas para obtener una sola columna de productos\n",
    "productos_apilados = productos_divididos.stack()\n",
    "\n",
    "# Contar la frecuencia de cada producto\n",
    "productos_contados = productos_apilados.value_counts()\n",
    "\n",
    "# Mostrar los 10 productos más populares\n",
    "productos_contados.head(10).plot(kind='bar')\n",
    "plt.xlabel('Artista')\n",
    "plt.ylabel('Frecuencia')\n",
    "plt.title('Top 10 Productos Más Populares')\n",
    "plt.show()"
   ],
   "metadata": {
    "collapsed": false,
    "is_executing": true,
    "ExecuteTime": {
     "start_time": "2024-01-23T16:36:17.874682400Z"
    }
   },
   "id": "c70da24fae05c411",
   "execution_count": null
  },
  {
   "cell_type": "markdown",
   "source": [
    "## Reglas de asociación por medio del algoritmo apriori"
   ],
   "metadata": {
    "collapsed": false
   },
   "id": "d0a549322c20792a"
  },
  {
   "cell_type": "code",
   "outputs": [],
   "source": [
    "from mlxtend.frequent_patterns import apriori, association_rules\n",
    "from mlxtend.preprocessing import TransactionEncoder"
   ],
   "metadata": {
    "collapsed": false,
    "is_executing": true
   },
   "id": "373a3c775b331c26",
   "execution_count": null
  },
  {
   "cell_type": "code",
   "outputs": [],
   "source": [
    "# Crear un codificador one-hot\n",
    "te = TransactionEncoder()\n",
    "transacciones_encoded = te.fit(transacciones[\"artist\"].apply(lambda x: x.split(','))).transform(transacciones[\"artist\"].apply(lambda x: x.split(',')))"
   ],
   "metadata": {
    "collapsed": false,
    "is_executing": true
   },
   "id": "e1274bd562b0ac99",
   "execution_count": null
  },
  {
   "cell_type": "code",
   "outputs": [],
   "source": [
    "transacciones_encoded_df = pd.DataFrame(transacciones_encoded, columns=te.columns_)\n",
    "transacciones_encoded_df"
   ],
   "metadata": {
    "collapsed": false,
    "is_executing": true
   },
   "id": "f1b94febc578d725",
   "execution_count": null
  },
  {
   "cell_type": "code",
   "outputs": [],
   "source": [
    "# Obtenemos las reglas de asociación por medio del algoritmo apriori\n",
    "frequent_artist = apriori(transacciones_encoded_df, min_support=0.02, use_colnames=True)\n",
    "frequent_artist"
   ],
   "metadata": {
    "collapsed": false,
    "is_executing": true
   },
   "id": "8f6dc4c4aa3d443f",
   "execution_count": null
  },
  {
   "cell_type": "code",
   "outputs": [],
   "source": [
    "# Generamos reglas de asociación\n",
    "reglas = association_rules(frequent_artist, metric=\"confidence\", min_threshold=0.2)\n",
    "reglas = reglas.sort_values(by=\"confidence\", ascending=False)\n",
    "reglas"
   ],
   "metadata": {
    "collapsed": false,
    "is_executing": true
   },
   "id": "82fb5849b6deb1bf",
   "execution_count": null
  },
  {
   "cell_type": "code",
   "outputs": [],
   "source": [
    "# Verificamos si hay reglas redundantes\n",
    "redundantes = reglas.duplicated(subset=['antecedents', 'consequents'])\n",
    "print(redundantes)"
   ],
   "metadata": {
    "collapsed": false,
    "is_executing": true
   },
   "id": "ce44f92ffc8c5d73",
   "execution_count": null
  },
  {
   "cell_type": "code",
   "outputs": [],
   "source": [
    "reglas_podadas = reglas[~redundantes]\n",
    "reglas_podadas"
   ],
   "metadata": {
    "collapsed": false,
    "is_executing": true
   },
   "id": "96693db62c0a2dfd",
   "execution_count": null
  },
  {
   "cell_type": "code",
   "outputs": [],
   "source": [
    "import networkx as nx"
   ],
   "metadata": {
    "collapsed": false,
    "is_executing": true
   },
   "id": "633221f2a2b6b07b",
   "execution_count": null
  },
  {
   "cell_type": "code",
   "outputs": [],
   "source": [
    "# Creamos un grafo con las reglas\n",
    "G = nx.DiGraph()\n",
    "for i, row in reglas.iterrows():\n",
    "    G.add_edge(row['antecedents'], row['consequents'], weight=row['confidence'])\n",
    "\n",
    "# Visualizamos el grafo con layout circular\n",
    "pos = nx.circular_layout(G)\n",
    "\n",
    "# Redondeamos los valores de confianza a 3 decimales\n",
    "edge_labels = {edge: f\"{weight:.3f}\" for edge, weight in nx.get_edge_attributes(G, 'weight').items()}\n",
    "\n",
    "plt.figure(figsize=(24, 16))\n",
    "nx.draw(G, pos, with_labels=True, font_weight='bold', node_size=2000, node_color=\"skyblue\", font_size=8, edge_color='gray')\n",
    "nx.draw_networkx_edge_labels(G, pos, edge_labels=edge_labels, font_color='red', font_size=8)\n",
    "plt.show()"
   ],
   "metadata": {
    "collapsed": false,
    "is_executing": true
   },
   "id": "841c629cda9d9b68",
   "execution_count": null
  }
 ],
 "metadata": {
  "kernelspec": {
   "display_name": "Python 3",
   "language": "python",
   "name": "python3"
  },
  "language_info": {
   "codemirror_mode": {
    "name": "ipython",
    "version": 2
   },
   "file_extension": ".py",
   "mimetype": "text/x-python",
   "name": "python",
   "nbconvert_exporter": "python",
   "pygments_lexer": "ipython2",
   "version": "2.7.6"
  }
 },
 "nbformat": 4,
 "nbformat_minor": 5
}
